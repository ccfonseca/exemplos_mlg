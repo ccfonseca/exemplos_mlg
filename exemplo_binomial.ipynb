{
 "cells": [
  {
   "cell_type": "markdown",
   "metadata": {},
   "source": [
    "# Modelo linear generalizado - Distribuição binomial\n",
    "\n",
    "Adaptado de http://wiki.icmc.usp.br/images/6/69/Exemplo-binomial-2023.pdf\n",
    "\n",
    "Um modelo binomial com função de ligação canônica é ajustado aos dados do Exemplo 5, pag. 16 do\n",
    "livro Demétrio, C. G. B. (2002), Modelos Lineares Generalizados em Experimentação Agronômica, ESALQ\n",
    "(https://docs.ufpr.br/~niveam/micro%20da%20sala/bom/Apostila%20de%20MLG.pdf).\n",
    "\n",
    "O modelo relaciona a probabilidade de que um inseto (pulgão) morra com a dose do inseticida (rotenone).\n",
    "Para cada dose foram utilizados m insetos no experimento dos quais y morreram após um certo tempo de\n",
    "exposição ao inseticida. Seis doses diferentes foram testadas. Esse tipo de estudo é conhecido como ensaio\n",
    "dose-resposta.\n",
    "\n",
    "A linguagem Python é utilizada no exemplo."
   ]
  },
  {
   "cell_type": "code",
   "execution_count": 1,
   "metadata": {},
   "outputs": [],
   "source": [
    "import numpy as np\n",
    "import matplotlib.pyplot as plt\n",
    "import seaborn as sns\n",
    "import statsmodels.api as sm\n",
    "import pandas as pd"
   ]
  },
  {
   "cell_type": "code",
   "execution_count": 2,
   "metadata": {},
   "outputs": [],
   "source": [
    "dose = np.array([10.2, 7.7, 5.1, 3.8, 2.6, 0.0])\n",
    "m = np.array([50, 49, 46, 48, 50, 49])\n",
    "y = np.array([44, 42, 24, 16, 6, 0])\n",
    "resposta = np.column_stack((y, m - y))\n",
    "pmortos = y / m"
   ]
  },
  {
   "cell_type": "markdown",
   "metadata": {},
   "source": [
    "O objeto resposta representa a variável resposta e tem duas colunas: número de insetos mortos e número de\n",
    "insetos sobreviventes. O número de insetos no estudo foi"
   ]
  },
  {
   "cell_type": "code",
   "execution_count": 3,
   "metadata": {},
   "outputs": [
    {
     "data": {
      "text/plain": [
       "292"
      ]
     },
     "execution_count": 3,
     "metadata": {},
     "output_type": "execute_result"
    }
   ],
   "source": [
    "np.sum(m)"
   ]
  },
  {
   "cell_type": "markdown",
   "metadata": {},
   "source": [
    "Os dados neste exemplo estão na forma agregada. Na forma bruta terîamos um vetor de respostas binárias\n",
    "$y$ (292 × 1) e um vetor $x$ (292 × 1) com os valores das doses, sendo que 10,2 estaria repetido 50 vezes, . . . ,\n",
    "0,0 estaria repetido 49 vezes."
   ]
  },
  {
   "cell_type": "code",
   "execution_count": 4,
   "metadata": {},
   "outputs": [
    {
     "data": {
      "image/png": "[encoded data removed]",
      "text/plain": [
       "<Figure size 640x480 with 1 Axes>"
      ]
     },
     "metadata": {},
     "output_type": "display_data"
    }
   ],
   "source": [
    "sns.scatterplot(x=dose, y=pmortos)\n",
    "plt.xlabel(\"Dose\")\n",
    "plt.ylabel(\"Proporção de insetos mortos\")\n",
    "plt.show()"
   ]
  },
  {
   "cell_type": "code",
   "execution_count": 5,
   "metadata": {},
   "outputs": [
    {
     "name": "stdout",
     "output_type": "stream",
     "text": [
      "                 Generalized Linear Model Regression Results                  \n",
      "==============================================================================\n",
      "Dep. Variable:           ['y1', 'y2']   No. Observations:                    6\n",
      "Model:                            GLM   Df Residuals:                        4\n",
      "Model Family:                Binomial   Df Model:                            1\n",
      "Link Function:                  Logit   Scale:                          1.0000\n",
      "Method:                          IRLS   Log-Likelihood:                -14.739\n",
      "Date:                Fri, 08 Sep 2023   Deviance:                       10.258\n",
      "Time:                        08:48:29   Pearson chi2:                     9.70\n",
      "No. Iterations:                     5   Pseudo R-squ. (CS):              1.000\n",
      "Covariance Type:            nonrobust                                         \n",
      "==============================================================================\n",
      "                 coef    std err          z      P>|z|      [0.025      0.975]\n",
      "------------------------------------------------------------------------------\n",
      "const         -3.2257      0.370     -8.720      0.000      -3.951      -2.501\n",
      "x1             0.6051      0.068      8.924      0.000       0.472       0.738\n",
      "==============================================================================\n"
     ]
    }
   ],
   "source": [
    "model = sm.GLM(resposta, sm.add_constant(dose), family=sm.families.Binomial())\n",
    "result = model.fit()\n",
    "print(result.summary())"
   ]
  },
  {
   "cell_type": "markdown",
   "metadata": {},
   "source": [
    "O objeto _result_ contém diversos resultados do ajuste"
   ]
  },
  {
   "cell_type": "code",
   "execution_count": 6,
   "metadata": {},
   "outputs": [
    {
     "name": "stdout",
     "output_type": "stream",
     "text": [
      "\n",
      "    Class to contain GLM results.\n",
      "\n",
      "    GLMResults inherits from statsmodels.LikelihoodModelResults\n",
      "\n",
      "    Attributes\n",
      "    ----------\n",
      "    df_model : float\n",
      "        See GLM.df_model\n",
      "    df_resid : float\n",
      "        See GLM.df_resid\n",
      "    fit_history : dict\n",
      "        Contains information about the iterations. Its keys are `iterations`,\n",
      "        `deviance` and `params`.\n",
      "    model : class instance\n",
      "        Pointer to GLM model instance that called fit.\n",
      "    nobs : float\n",
      "        The number of observations n.\n",
      "    normalized_cov_params : ndarray\n",
      "        See GLM docstring\n",
      "    params : ndarray\n",
      "        The coefficients of the fitted model.  Note that interpretation\n",
      "        of the coefficients often depends on the distribution family and the\n",
      "        data.\n",
      "    pvalues : ndarray\n",
      "        The two-tailed p-values for the parameters.\n",
      "    scale : float\n",
      "        The estimate of the scale / dispersion for the model fit.\n",
      "        See GLM.fit and GLM.estimate_scale for more information.\n",
      "    stand_errors : ndarray\n",
      "        The standard errors of the fitted GLM.   #TODO still named bse\n",
      "\n",
      "    See Also\n",
      "    --------\n",
      "    statsmodels.base.model.LikelihoodModelResults\n",
      "    \n"
     ]
    }
   ],
   "source": [
    "print(result.__dict__['__doc__'])"
   ]
  },
  {
   "cell_type": "markdown",
   "metadata": {},
   "source": [
    "As proporções de insetos mortos e o modelo ajustado são mostrados na figura abaixo"
   ]
  },
  {
   "cell_type": "code",
   "execution_count": 7,
   "metadata": {},
   "outputs": [
    {
     "data": {
      "image/png": "[encoded data removed]",
      "text/plain": [
       "<Figure size 640x480 with 1 Axes>"
      ]
     },
     "metadata": {},
     "output_type": "display_data"
    }
   ],
   "source": [
    "from scipy.stats import logistic\n",
    "\n",
    "b0 = result.params[0]\n",
    "b1 = result.params[1]\n",
    "\n",
    "X = np.linspace(dose.min(), dose.max(), 50)\n",
    "\n",
    "sns.scatterplot(x=dose, y=pmortos)\n",
    "plt.xlabel(\"Dose\")\n",
    "plt.ylabel(\"Proporção de insetos mortos\")\n",
    "sns.lineplot(x=X, y=logistic.cdf(b0 + b1*X), color=\"red\")\n",
    "plt.show()"
   ]
  },
  {
   "cell_type": "code",
   "execution_count": 8,
   "metadata": {},
   "outputs": [
    {
     "data": {
      "text/html": [
       "<div>\n",
       "<style scoped>\n",
       "    .dataframe tbody tr th:only-of-type {\n",
       "        vertical-align: middle;\n",
       "    }\n",
       "\n",
       "    .dataframe tbody tr th {\n",
       "        vertical-align: top;\n",
       "    }\n",
       "\n",
       "    .dataframe thead th {\n",
       "        text-align: right;\n",
       "    }\n",
       "</style>\n",
       "<table border=\"1\" class=\"dataframe\">\n",
       "  <thead>\n",
       "    <tr style=\"text-align: right;\">\n",
       "      <th></th>\n",
       "      <th>Inf</th>\n",
       "      <th>Sup</th>\n",
       "    </tr>\n",
       "  </thead>\n",
       "  <tbody>\n",
       "    <tr>\n",
       "      <th>(Intercept)</th>\n",
       "      <td>-3.950686</td>\n",
       "      <td>-2.500640</td>\n",
       "    </tr>\n",
       "    <tr>\n",
       "      <th>dose</th>\n",
       "      <td>0.472216</td>\n",
       "      <td>0.738036</td>\n",
       "    </tr>\n",
       "  </tbody>\n",
       "</table>\n",
       "</div>"
      ],
      "text/plain": [
       "                  Inf       Sup\n",
       "(Intercept) -3.950686 -2.500640\n",
       "dose         0.472216  0.738036"
      ]
     },
     "execution_count": 8,
     "metadata": {},
     "output_type": "execute_result"
    }
   ],
   "source": [
    "pd.DataFrame(result.conf_int(), columns=[\"Inf\", \"Sup\"], index=[\"(Intercept)\", \"dose\"])"
   ]
  }
 ],
 "metadata": {
  "kernelspec": {
   "display_name": "Python 3",
   "language": "python",
   "name": "python3"
  },
  "language_info": {
   "codemirror_mode": {
    "name": "ipython",
    "version": 3
   },
   "file_extension": ".py",
   "mimetype": "text/x-python",
   "name": "python",
   "nbconvert_exporter": "python",
   "pygments_lexer": "ipython3",
   "version": "3.11.4"
  },
  "orig_nbformat": 4
 },
 "nbformat": 4,
 "nbformat_minor": 2
}
